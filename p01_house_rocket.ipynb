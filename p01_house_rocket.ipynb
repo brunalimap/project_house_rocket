{
 "cells": [
  {
   "cell_type": "markdown",
   "metadata": {},
   "source": [
    "# 0.0 Imports"
   ]
  },
  {
   "cell_type": "code",
   "execution_count": 1,
   "metadata": {
    "ExecuteTime": {
     "end_time": "2021-03-09T15:39:23.382116Z",
     "start_time": "2021-03-09T15:39:21.421137Z"
    }
   },
   "outputs": [],
   "source": [
    "import os\n",
    "import requests\n",
    "import pandas         as pd\n",
    "import numpy          as np\n",
    "import seaborn        as sns\n",
    "import plotly.express as px\n",
    "import ipywidgets     as widgets\n",
    "import zipfile     \n",
    "\n",
    "from io                    import BytesIO\n",
    "from ipywidgets            import fixed\n",
    "from matplotlib            import gridspec\n",
    "from matplotlib            import pyplot as plt\n",
    "from geopy.geocoders       import Nominatim\n",
    "from IPython.core.display  import HTML\n",
    "from IPython.display       import Image"
   ]
  },
  {
   "cell_type": "markdown",
   "metadata": {},
   "source": [
    "## 0.1 Helper functions"
   ]
  },
  {
   "cell_type": "code",
   "execution_count": 2,
   "metadata": {
    "ExecuteTime": {
     "end_time": "2021-03-09T15:39:23.425304Z",
     "start_time": "2021-03-09T15:39:23.385390Z"
    }
   },
   "outputs": [
    {
     "data": {
      "text/html": [
       "<style>.container {width:100% !important; }</style>"
      ],
      "text/plain": [
       "<IPython.core.display.HTML object>"
      ]
     },
     "metadata": {},
     "output_type": "display_data"
    }
   ],
   "source": [
    "# Estatística Descritiva\n",
    "def num_metricas(num_attributes):\n",
    "    \n",
    "  #Central tendencian - mean, median\n",
    "    ct1 = pd.DataFrame( num_attributes.apply(np.mean)).T\n",
    "    ct2 = pd.DataFrame(num_attributes.apply(np.median)).T\n",
    "\n",
    "  #Dispersion - std, min, max, range, skew, kurtosis\n",
    "\n",
    "    d1 = pd.DataFrame(num_attributes.apply(np.std)).T\n",
    "    d2 = pd.DataFrame(num_attributes.apply(min)).T\n",
    "    d3 = pd.DataFrame(num_attributes.apply(max)).T\n",
    "    d4 = pd.DataFrame(num_attributes.apply(lambda x: x.max() - x.min() )).T\n",
    "    d5 = pd.DataFrame(num_attributes.apply(lambda x: x.skew() )).T\n",
    "    d6 = pd.DataFrame(num_attributes.apply(lambda x: x.kurtosis() )).T\n",
    "\n",
    "  #Concatenate\n",
    "    metrics = pd.concat([d2, d3, d4, ct1, ct2, d1, d5, d6]).T.reset_index()\n",
    "    metrics.columns = ['attributes','min', 'max', 'range', 'mean', 'median', 'std', 'skew','kurtosis']\n",
    "  \n",
    "    return metrics\n",
    "\n",
    "def jupyter_settings():\n",
    "    \n",
    "    %matplotlib inline \n",
    "    #%pylab inline\n",
    "    \n",
    "    plt.style.use('bmh')\n",
    "    plt.rcParams['figure.figsize']=[20,10]\n",
    "    plt.rcParams['font.size']=10\n",
    "    \n",
    "    display( HTML('<style>.container {width:100% !important; }</style>'))\n",
    "    pd.options.display.max_columns = None\n",
    "    pd.options.display.max_rows = None\n",
    "    pd.set_option('display.expand_frame_repr',False )\n",
    "    pd.set_option('display.float_format',lambda x: '%.2f' % x)\n",
    "    \n",
    "\n",
    "    sns.set()\n",
    "    \n",
    "\n",
    "\n",
    "jupyter_settings()"
   ]
  },
  {
   "cell_type": "markdown",
   "metadata": {},
   "source": [
    "## 0.2 Loading Data"
   ]
  },
  {
   "cell_type": "code",
   "execution_count": 3,
   "metadata": {
    "ExecuteTime": {
     "end_time": "2021-03-09T15:39:23.670038Z",
     "start_time": "2021-03-09T15:39:23.429426Z"
    }
   },
   "outputs": [
    {
     "data": {
      "text/html": [
       "<div>\n",
       "<style scoped>\n",
       "    .dataframe tbody tr th:only-of-type {\n",
       "        vertical-align: middle;\n",
       "    }\n",
       "\n",
       "    .dataframe tbody tr th {\n",
       "        vertical-align: top;\n",
       "    }\n",
       "\n",
       "    .dataframe thead th {\n",
       "        text-align: right;\n",
       "    }\n",
       "</style>\n",
       "<table border=\"1\" class=\"dataframe\">\n",
       "  <thead>\n",
       "    <tr style=\"text-align: right;\">\n",
       "      <th></th>\n",
       "      <th>id</th>\n",
       "      <th>date</th>\n",
       "      <th>price</th>\n",
       "      <th>bedrooms</th>\n",
       "      <th>bathrooms</th>\n",
       "      <th>sqft_living</th>\n",
       "      <th>sqft_lot</th>\n",
       "      <th>floors</th>\n",
       "      <th>waterfront</th>\n",
       "      <th>view</th>\n",
       "      <th>condition</th>\n",
       "      <th>grade</th>\n",
       "      <th>sqft_above</th>\n",
       "      <th>sqft_basement</th>\n",
       "      <th>yr_built</th>\n",
       "      <th>yr_renovated</th>\n",
       "      <th>zipcode</th>\n",
       "      <th>lat</th>\n",
       "      <th>long</th>\n",
       "      <th>sqft_living15</th>\n",
       "      <th>sqft_lot15</th>\n",
       "    </tr>\n",
       "  </thead>\n",
       "  <tbody>\n",
       "    <tr>\n",
       "      <th>4910</th>\n",
       "      <td>339600460</td>\n",
       "      <td>20141017T000000</td>\n",
       "      <td>419500.00</td>\n",
       "      <td>3</td>\n",
       "      <td>2.50</td>\n",
       "      <td>1360</td>\n",
       "      <td>3188</td>\n",
       "      <td>2.00</td>\n",
       "      <td>0</td>\n",
       "      <td>0</td>\n",
       "      <td>3</td>\n",
       "      <td>7</td>\n",
       "      <td>1360</td>\n",
       "      <td>0</td>\n",
       "      <td>1986</td>\n",
       "      <td>0</td>\n",
       "      <td>98052</td>\n",
       "      <td>47.68</td>\n",
       "      <td>-122.10</td>\n",
       "      <td>1090</td>\n",
       "      <td>3188</td>\n",
       "    </tr>\n",
       "    <tr>\n",
       "      <th>5454</th>\n",
       "      <td>9413600420</td>\n",
       "      <td>20140612T000000</td>\n",
       "      <td>890000.00</td>\n",
       "      <td>3</td>\n",
       "      <td>2.25</td>\n",
       "      <td>2060</td>\n",
       "      <td>8640</td>\n",
       "      <td>1.00</td>\n",
       "      <td>0</td>\n",
       "      <td>0</td>\n",
       "      <td>4</td>\n",
       "      <td>8</td>\n",
       "      <td>2060</td>\n",
       "      <td>0</td>\n",
       "      <td>1966</td>\n",
       "      <td>0</td>\n",
       "      <td>98033</td>\n",
       "      <td>47.65</td>\n",
       "      <td>-122.19</td>\n",
       "      <td>2030</td>\n",
       "      <td>9000</td>\n",
       "    </tr>\n",
       "    <tr>\n",
       "      <th>16801</th>\n",
       "      <td>9197100101</td>\n",
       "      <td>20150504T000000</td>\n",
       "      <td>225000.00</td>\n",
       "      <td>2</td>\n",
       "      <td>1.00</td>\n",
       "      <td>1010</td>\n",
       "      <td>5408</td>\n",
       "      <td>1.00</td>\n",
       "      <td>0</td>\n",
       "      <td>0</td>\n",
       "      <td>4</td>\n",
       "      <td>6</td>\n",
       "      <td>1010</td>\n",
       "      <td>0</td>\n",
       "      <td>1926</td>\n",
       "      <td>0</td>\n",
       "      <td>98032</td>\n",
       "      <td>47.38</td>\n",
       "      <td>-122.24</td>\n",
       "      <td>980</td>\n",
       "      <td>7800</td>\n",
       "    </tr>\n",
       "    <tr>\n",
       "      <th>20880</th>\n",
       "      <td>3362400092</td>\n",
       "      <td>20150312T000000</td>\n",
       "      <td>565000.00</td>\n",
       "      <td>3</td>\n",
       "      <td>2.25</td>\n",
       "      <td>1540</td>\n",
       "      <td>1005</td>\n",
       "      <td>3.00</td>\n",
       "      <td>0</td>\n",
       "      <td>0</td>\n",
       "      <td>3</td>\n",
       "      <td>8</td>\n",
       "      <td>1540</td>\n",
       "      <td>0</td>\n",
       "      <td>2008</td>\n",
       "      <td>0</td>\n",
       "      <td>98103</td>\n",
       "      <td>47.68</td>\n",
       "      <td>-122.35</td>\n",
       "      <td>1510</td>\n",
       "      <td>1501</td>\n",
       "    </tr>\n",
       "    <tr>\n",
       "      <th>7752</th>\n",
       "      <td>4046700210</td>\n",
       "      <td>20140629T000000</td>\n",
       "      <td>345000.00</td>\n",
       "      <td>3</td>\n",
       "      <td>2.00</td>\n",
       "      <td>1610</td>\n",
       "      <td>15005</td>\n",
       "      <td>1.00</td>\n",
       "      <td>0</td>\n",
       "      <td>0</td>\n",
       "      <td>4</td>\n",
       "      <td>7</td>\n",
       "      <td>1610</td>\n",
       "      <td>0</td>\n",
       "      <td>1986</td>\n",
       "      <td>0</td>\n",
       "      <td>98014</td>\n",
       "      <td>47.69</td>\n",
       "      <td>-121.91</td>\n",
       "      <td>1610</td>\n",
       "      <td>15479</td>\n",
       "    </tr>\n",
       "  </tbody>\n",
       "</table>\n",
       "</div>"
      ],
      "text/plain": [
       "               id             date     price  bedrooms  bathrooms  sqft_living  sqft_lot  floors  waterfront  view  condition  grade  sqft_above  sqft_basement  yr_built  yr_renovated  zipcode   lat    long  sqft_living15  sqft_lot15\n",
       "4910    339600460  20141017T000000 419500.00         3       2.50         1360      3188    2.00           0     0          3      7        1360              0      1986             0    98052 47.68 -122.10           1090        3188\n",
       "5454   9413600420  20140612T000000 890000.00         3       2.25         2060      8640    1.00           0     0          4      8        2060              0      1966             0    98033 47.65 -122.19           2030        9000\n",
       "16801  9197100101  20150504T000000 225000.00         2       1.00         1010      5408    1.00           0     0          4      6        1010              0      1926             0    98032 47.38 -122.24            980        7800\n",
       "20880  3362400092  20150312T000000 565000.00         3       2.25         1540      1005    3.00           0     0          3      8        1540              0      2008             0    98103 47.68 -122.35           1510        1501\n",
       "7752   4046700210  20140629T000000 345000.00         3       2.00         1610     15005    1.00           0     0          4      7        1610              0      1986             0    98014 47.69 -121.91           1610       15479"
      ]
     },
     "execution_count": 3,
     "metadata": {},
     "output_type": "execute_result"
    }
   ],
   "source": [
    "df_raw = pd.read_csv('data/kc_house_data.csv',low_memory=False)\n",
    "df = df_raw.copy()\n",
    "df.sample(5)"
   ]
  },
  {
   "cell_type": "markdown",
   "metadata": {
    "ExecuteTime": {
     "end_time": "2021-03-08T21:11:39.949695Z",
     "start_time": "2021-03-08T21:11:39.944938Z"
    }
   },
   "source": [
    "# 1.0 Descrição dos Dados"
   ]
  },
  {
   "cell_type": "markdown",
   "metadata": {},
   "source": [
    "## 1.1. Dimensão dos Dados"
   ]
  },
  {
   "cell_type": "code",
   "execution_count": 4,
   "metadata": {
    "ExecuteTime": {
     "end_time": "2021-03-09T15:39:23.679259Z",
     "start_time": "2021-03-09T15:39:23.674262Z"
    }
   },
   "outputs": [
    {
     "name": "stdout",
     "output_type": "stream",
     "text": [
      "Quantidade de linhas: 21613\n",
      "Quantidade de colunas: 21\n"
     ]
    }
   ],
   "source": [
    "print('Quantidade de linhas: {}'.format(df.shape[0]))\n",
    "print('Quantidade de colunas: {}'.format(df.shape[1]))"
   ]
  },
  {
   "cell_type": "markdown",
   "metadata": {
    "ExecuteTime": {
     "end_time": "2021-03-08T21:14:10.748394Z",
     "start_time": "2021-03-08T21:14:10.743665Z"
    }
   },
   "source": [
    "## 1.2. Tipos dos Dados"
   ]
  },
  {
   "cell_type": "code",
   "execution_count": 5,
   "metadata": {
    "ExecuteTime": {
     "end_time": "2021-03-09T15:39:23.722648Z",
     "start_time": "2021-03-09T15:39:23.689471Z"
    }
   },
   "outputs": [
    {
     "data": {
      "text/plain": [
       "id                 int64\n",
       "date              object\n",
       "price            float64\n",
       "bedrooms           int64\n",
       "bathrooms        float64\n",
       "sqft_living        int64\n",
       "sqft_lot           int64\n",
       "floors           float64\n",
       "waterfront         int64\n",
       "view               int64\n",
       "condition          int64\n",
       "grade              int64\n",
       "sqft_above         int64\n",
       "sqft_basement      int64\n",
       "yr_built           int64\n",
       "yr_renovated       int64\n",
       "zipcode            int64\n",
       "lat              float64\n",
       "long             float64\n",
       "sqft_living15      int64\n",
       "sqft_lot15         int64\n",
       "dtype: object"
      ]
     },
     "execution_count": 5,
     "metadata": {},
     "output_type": "execute_result"
    }
   ],
   "source": [
    "df.dtypes"
   ]
  },
  {
   "cell_type": "markdown",
   "metadata": {},
   "source": [
    "Podemos observar que a variável 'date' apresenta o tipo object como é uma data vamos realizar a mudança do tipo de variável."
   ]
  },
  {
   "cell_type": "code",
   "execution_count": 6,
   "metadata": {
    "ExecuteTime": {
     "end_time": "2021-03-09T15:39:23.761855Z",
     "start_time": "2021-03-09T15:39:23.725825Z"
    }
   },
   "outputs": [],
   "source": [
    "df['date'] = pd.to_datetime(df['date'],errors='coerce')"
   ]
  },
  {
   "cell_type": "markdown",
   "metadata": {},
   "source": [
    "## 1.3 Check NA"
   ]
  },
  {
   "cell_type": "code",
   "execution_count": 7,
   "metadata": {
    "ExecuteTime": {
     "end_time": "2021-03-09T15:39:23.779679Z",
     "start_time": "2021-03-09T15:39:23.764665Z"
    }
   },
   "outputs": [
    {
     "data": {
      "text/plain": [
       "id               0\n",
       "date             0\n",
       "price            0\n",
       "bedrooms         0\n",
       "bathrooms        0\n",
       "sqft_living      0\n",
       "sqft_lot         0\n",
       "floors           0\n",
       "waterfront       0\n",
       "view             0\n",
       "condition        0\n",
       "grade            0\n",
       "sqft_above       0\n",
       "sqft_basement    0\n",
       "yr_built         0\n",
       "yr_renovated     0\n",
       "zipcode          0\n",
       "lat              0\n",
       "long             0\n",
       "sqft_living15    0\n",
       "sqft_lot15       0\n",
       "dtype: int64"
      ]
     },
     "execution_count": 7,
     "metadata": {},
     "output_type": "execute_result"
    }
   ],
   "source": [
    "df.isna().sum()"
   ]
  },
  {
   "cell_type": "markdown",
   "metadata": {},
   "source": [
    "**Obs:** O dataset não apresenta valores nulos."
   ]
  },
  {
   "cell_type": "markdown",
   "metadata": {},
   "source": [
    "## 1.4 Estatística Descritiva"
   ]
  },
  {
   "cell_type": "code",
   "execution_count": 8,
   "metadata": {
    "ExecuteTime": {
     "end_time": "2021-03-09T15:39:23.840651Z",
     "start_time": "2021-03-09T15:39:23.790262Z"
    }
   },
   "outputs": [],
   "source": [
    "#Separação das variáveis numéricas e categóricas\n",
    "num_atributos = df.select_dtypes(include = ['int64', 'float64'])\n",
    "cat_atributos = df.select_dtypes(include = ['object'])"
   ]
  },
  {
   "cell_type": "markdown",
   "metadata": {
    "ExecuteTime": {
     "end_time": "2021-03-08T21:20:03.286626Z",
     "start_time": "2021-03-08T21:20:03.283095Z"
    }
   },
   "source": [
    "### 1.4.1 Variáveis Numéricas"
   ]
  },
  {
   "cell_type": "code",
   "execution_count": 9,
   "metadata": {
    "ExecuteTime": {
     "end_time": "2021-03-09T15:39:24.279780Z",
     "start_time": "2021-03-09T15:39:23.848650Z"
    }
   },
   "outputs": [
    {
     "data": {
      "text/html": [
       "<div>\n",
       "<style scoped>\n",
       "    .dataframe tbody tr th:only-of-type {\n",
       "        vertical-align: middle;\n",
       "    }\n",
       "\n",
       "    .dataframe tbody tr th {\n",
       "        vertical-align: top;\n",
       "    }\n",
       "\n",
       "    .dataframe thead th {\n",
       "        text-align: right;\n",
       "    }\n",
       "</style>\n",
       "<table border=\"1\" class=\"dataframe\">\n",
       "  <thead>\n",
       "    <tr style=\"text-align: right;\">\n",
       "      <th></th>\n",
       "      <th>attributes</th>\n",
       "      <th>min</th>\n",
       "      <th>max</th>\n",
       "      <th>range</th>\n",
       "      <th>mean</th>\n",
       "      <th>median</th>\n",
       "      <th>std</th>\n",
       "      <th>skew</th>\n",
       "      <th>kurtosis</th>\n",
       "    </tr>\n",
       "  </thead>\n",
       "  <tbody>\n",
       "    <tr>\n",
       "      <th>0</th>\n",
       "      <td>id</td>\n",
       "      <td>1000102.00</td>\n",
       "      <td>9900000190.00</td>\n",
       "      <td>9899000088.00</td>\n",
       "      <td>4580301520.86</td>\n",
       "      <td>3904930410.00</td>\n",
       "      <td>2876499023.43</td>\n",
       "      <td>0.24</td>\n",
       "      <td>-1.26</td>\n",
       "    </tr>\n",
       "    <tr>\n",
       "      <th>1</th>\n",
       "      <td>price</td>\n",
       "      <td>75000.00</td>\n",
       "      <td>7700000.00</td>\n",
       "      <td>7625000.00</td>\n",
       "      <td>540088.14</td>\n",
       "      <td>450000.00</td>\n",
       "      <td>367118.70</td>\n",
       "      <td>4.02</td>\n",
       "      <td>34.59</td>\n",
       "    </tr>\n",
       "    <tr>\n",
       "      <th>2</th>\n",
       "      <td>bedrooms</td>\n",
       "      <td>0.00</td>\n",
       "      <td>33.00</td>\n",
       "      <td>33.00</td>\n",
       "      <td>3.37</td>\n",
       "      <td>3.00</td>\n",
       "      <td>0.93</td>\n",
       "      <td>1.97</td>\n",
       "      <td>49.06</td>\n",
       "    </tr>\n",
       "    <tr>\n",
       "      <th>3</th>\n",
       "      <td>bathrooms</td>\n",
       "      <td>0.00</td>\n",
       "      <td>8.00</td>\n",
       "      <td>8.00</td>\n",
       "      <td>2.11</td>\n",
       "      <td>2.25</td>\n",
       "      <td>0.77</td>\n",
       "      <td>0.51</td>\n",
       "      <td>1.28</td>\n",
       "    </tr>\n",
       "    <tr>\n",
       "      <th>4</th>\n",
       "      <td>sqft_living</td>\n",
       "      <td>290.00</td>\n",
       "      <td>13540.00</td>\n",
       "      <td>13250.00</td>\n",
       "      <td>2079.90</td>\n",
       "      <td>1910.00</td>\n",
       "      <td>918.42</td>\n",
       "      <td>1.47</td>\n",
       "      <td>5.24</td>\n",
       "    </tr>\n",
       "    <tr>\n",
       "      <th>5</th>\n",
       "      <td>sqft_lot</td>\n",
       "      <td>520.00</td>\n",
       "      <td>1651359.00</td>\n",
       "      <td>1650839.00</td>\n",
       "      <td>15106.97</td>\n",
       "      <td>7618.00</td>\n",
       "      <td>41419.55</td>\n",
       "      <td>13.06</td>\n",
       "      <td>285.08</td>\n",
       "    </tr>\n",
       "    <tr>\n",
       "      <th>6</th>\n",
       "      <td>floors</td>\n",
       "      <td>1.00</td>\n",
       "      <td>3.50</td>\n",
       "      <td>2.50</td>\n",
       "      <td>1.49</td>\n",
       "      <td>1.50</td>\n",
       "      <td>0.54</td>\n",
       "      <td>0.62</td>\n",
       "      <td>-0.48</td>\n",
       "    </tr>\n",
       "    <tr>\n",
       "      <th>7</th>\n",
       "      <td>waterfront</td>\n",
       "      <td>0.00</td>\n",
       "      <td>1.00</td>\n",
       "      <td>1.00</td>\n",
       "      <td>0.01</td>\n",
       "      <td>0.00</td>\n",
       "      <td>0.09</td>\n",
       "      <td>11.39</td>\n",
       "      <td>127.63</td>\n",
       "    </tr>\n",
       "    <tr>\n",
       "      <th>8</th>\n",
       "      <td>view</td>\n",
       "      <td>0.00</td>\n",
       "      <td>4.00</td>\n",
       "      <td>4.00</td>\n",
       "      <td>0.23</td>\n",
       "      <td>0.00</td>\n",
       "      <td>0.77</td>\n",
       "      <td>3.40</td>\n",
       "      <td>10.89</td>\n",
       "    </tr>\n",
       "    <tr>\n",
       "      <th>9</th>\n",
       "      <td>condition</td>\n",
       "      <td>1.00</td>\n",
       "      <td>5.00</td>\n",
       "      <td>4.00</td>\n",
       "      <td>3.41</td>\n",
       "      <td>3.00</td>\n",
       "      <td>0.65</td>\n",
       "      <td>1.03</td>\n",
       "      <td>0.53</td>\n",
       "    </tr>\n",
       "    <tr>\n",
       "      <th>10</th>\n",
       "      <td>grade</td>\n",
       "      <td>1.00</td>\n",
       "      <td>13.00</td>\n",
       "      <td>12.00</td>\n",
       "      <td>7.66</td>\n",
       "      <td>7.00</td>\n",
       "      <td>1.18</td>\n",
       "      <td>0.77</td>\n",
       "      <td>1.19</td>\n",
       "    </tr>\n",
       "    <tr>\n",
       "      <th>11</th>\n",
       "      <td>sqft_above</td>\n",
       "      <td>290.00</td>\n",
       "      <td>9410.00</td>\n",
       "      <td>9120.00</td>\n",
       "      <td>1788.39</td>\n",
       "      <td>1560.00</td>\n",
       "      <td>828.07</td>\n",
       "      <td>1.45</td>\n",
       "      <td>3.40</td>\n",
       "    </tr>\n",
       "    <tr>\n",
       "      <th>12</th>\n",
       "      <td>sqft_basement</td>\n",
       "      <td>0.00</td>\n",
       "      <td>4820.00</td>\n",
       "      <td>4820.00</td>\n",
       "      <td>291.51</td>\n",
       "      <td>0.00</td>\n",
       "      <td>442.56</td>\n",
       "      <td>1.58</td>\n",
       "      <td>2.72</td>\n",
       "    </tr>\n",
       "    <tr>\n",
       "      <th>13</th>\n",
       "      <td>yr_built</td>\n",
       "      <td>1900.00</td>\n",
       "      <td>2015.00</td>\n",
       "      <td>115.00</td>\n",
       "      <td>1971.01</td>\n",
       "      <td>1975.00</td>\n",
       "      <td>29.37</td>\n",
       "      <td>-0.47</td>\n",
       "      <td>-0.66</td>\n",
       "    </tr>\n",
       "    <tr>\n",
       "      <th>14</th>\n",
       "      <td>yr_renovated</td>\n",
       "      <td>0.00</td>\n",
       "      <td>2015.00</td>\n",
       "      <td>2015.00</td>\n",
       "      <td>84.40</td>\n",
       "      <td>0.00</td>\n",
       "      <td>401.67</td>\n",
       "      <td>4.55</td>\n",
       "      <td>18.70</td>\n",
       "    </tr>\n",
       "    <tr>\n",
       "      <th>15</th>\n",
       "      <td>zipcode</td>\n",
       "      <td>98001.00</td>\n",
       "      <td>98199.00</td>\n",
       "      <td>198.00</td>\n",
       "      <td>98077.94</td>\n",
       "      <td>98065.00</td>\n",
       "      <td>53.50</td>\n",
       "      <td>0.41</td>\n",
       "      <td>-0.85</td>\n",
       "    </tr>\n",
       "    <tr>\n",
       "      <th>16</th>\n",
       "      <td>lat</td>\n",
       "      <td>47.16</td>\n",
       "      <td>47.78</td>\n",
       "      <td>0.62</td>\n",
       "      <td>47.56</td>\n",
       "      <td>47.57</td>\n",
       "      <td>0.14</td>\n",
       "      <td>-0.49</td>\n",
       "      <td>-0.68</td>\n",
       "    </tr>\n",
       "    <tr>\n",
       "      <th>17</th>\n",
       "      <td>long</td>\n",
       "      <td>-122.52</td>\n",
       "      <td>-121.31</td>\n",
       "      <td>1.20</td>\n",
       "      <td>-122.21</td>\n",
       "      <td>-122.23</td>\n",
       "      <td>0.14</td>\n",
       "      <td>0.89</td>\n",
       "      <td>1.05</td>\n",
       "    </tr>\n",
       "    <tr>\n",
       "      <th>18</th>\n",
       "      <td>sqft_living15</td>\n",
       "      <td>399.00</td>\n",
       "      <td>6210.00</td>\n",
       "      <td>5811.00</td>\n",
       "      <td>1986.55</td>\n",
       "      <td>1840.00</td>\n",
       "      <td>685.38</td>\n",
       "      <td>1.11</td>\n",
       "      <td>1.60</td>\n",
       "    </tr>\n",
       "    <tr>\n",
       "      <th>19</th>\n",
       "      <td>sqft_lot15</td>\n",
       "      <td>651.00</td>\n",
       "      <td>871200.00</td>\n",
       "      <td>870549.00</td>\n",
       "      <td>12768.46</td>\n",
       "      <td>7620.00</td>\n",
       "      <td>27303.55</td>\n",
       "      <td>9.51</td>\n",
       "      <td>150.76</td>\n",
       "    </tr>\n",
       "  </tbody>\n",
       "</table>\n",
       "</div>"
      ],
      "text/plain": [
       "       attributes        min           max         range          mean        median           std  skew  kurtosis\n",
       "0              id 1000102.00 9900000190.00 9899000088.00 4580301520.86 3904930410.00 2876499023.43  0.24     -1.26\n",
       "1           price   75000.00    7700000.00    7625000.00     540088.14     450000.00     367118.70  4.02     34.59\n",
       "2        bedrooms       0.00         33.00         33.00          3.37          3.00          0.93  1.97     49.06\n",
       "3       bathrooms       0.00          8.00          8.00          2.11          2.25          0.77  0.51      1.28\n",
       "4     sqft_living     290.00      13540.00      13250.00       2079.90       1910.00        918.42  1.47      5.24\n",
       "5        sqft_lot     520.00    1651359.00    1650839.00      15106.97       7618.00      41419.55 13.06    285.08\n",
       "6          floors       1.00          3.50          2.50          1.49          1.50          0.54  0.62     -0.48\n",
       "7      waterfront       0.00          1.00          1.00          0.01          0.00          0.09 11.39    127.63\n",
       "8            view       0.00          4.00          4.00          0.23          0.00          0.77  3.40     10.89\n",
       "9       condition       1.00          5.00          4.00          3.41          3.00          0.65  1.03      0.53\n",
       "10          grade       1.00         13.00         12.00          7.66          7.00          1.18  0.77      1.19\n",
       "11     sqft_above     290.00       9410.00       9120.00       1788.39       1560.00        828.07  1.45      3.40\n",
       "12  sqft_basement       0.00       4820.00       4820.00        291.51          0.00        442.56  1.58      2.72\n",
       "13       yr_built    1900.00       2015.00        115.00       1971.01       1975.00         29.37 -0.47     -0.66\n",
       "14   yr_renovated       0.00       2015.00       2015.00         84.40          0.00        401.67  4.55     18.70\n",
       "15        zipcode   98001.00      98199.00        198.00      98077.94      98065.00         53.50  0.41     -0.85\n",
       "16            lat      47.16         47.78          0.62         47.56         47.57          0.14 -0.49     -0.68\n",
       "17           long    -122.52       -121.31          1.20       -122.21       -122.23          0.14  0.89      1.05\n",
       "18  sqft_living15     399.00       6210.00       5811.00       1986.55       1840.00        685.38  1.11      1.60\n",
       "19     sqft_lot15     651.00     871200.00     870549.00      12768.46       7620.00      27303.55  9.51    150.76"
      ]
     },
     "execution_count": 9,
     "metadata": {},
     "output_type": "execute_result"
    }
   ],
   "source": [
    " num_metricas(num_atributos)"
   ]
  },
  {
   "cell_type": "markdown",
   "metadata": {
    "ExecuteTime": {
     "end_time": "2021-03-08T21:21:34.338076Z",
     "start_time": "2021-03-08T21:21:34.334778Z"
    }
   },
   "source": [
    "### 1.4.2 Variáveis Categóricas"
   ]
  },
  {
   "cell_type": "code",
   "execution_count": 10,
   "metadata": {
    "ExecuteTime": {
     "end_time": "2021-03-09T15:39:24.288018Z",
     "start_time": "2021-03-09T15:39:24.282333Z"
    }
   },
   "outputs": [
    {
     "data": {
      "text/plain": [
       "Index([], dtype='object')"
      ]
     },
     "execution_count": 10,
     "metadata": {},
     "output_type": "execute_result"
    }
   ],
   "source": [
    "cat_atributos.columns "
   ]
  },
  {
   "cell_type": "markdown",
   "metadata": {
    "ExecuteTime": {
     "end_time": "2021-03-08T21:22:24.128307Z",
     "start_time": "2021-03-08T21:22:24.120501Z"
    }
   },
   "source": [
    "Não temos variáveis categóricos neste dataset"
   ]
  },
  {
   "cell_type": "markdown",
   "metadata": {},
   "source": [
    "# 2.0 Feature Engineering"
   ]
  },
  {
   "cell_type": "code",
   "execution_count": 11,
   "metadata": {
    "ExecuteTime": {
     "end_time": "2021-03-09T15:39:24.301883Z",
     "start_time": "2021-03-09T15:39:24.290532Z"
    }
   },
   "outputs": [],
   "source": [
    "df2 = df.copy()"
   ]
  },
  {
   "cell_type": "markdown",
   "metadata": {
    "ExecuteTime": {
     "end_time": "2021-03-08T21:25:03.267880Z",
     "start_time": "2021-03-08T21:25:03.264770Z"
    }
   },
   "source": [
    "## 2.1 Mapa de Hípoteses"
   ]
  },
  {
   "cell_type": "code",
   "execution_count": 12,
   "metadata": {
    "ExecuteTime": {
     "end_time": "2021-03-09T15:39:24.319662Z",
     "start_time": "2021-03-09T15:39:24.306627Z"
    }
   },
   "outputs": [],
   "source": [
    "# Vou fazer essa parte\n",
    "#Image('../img/')"
   ]
  },
  {
   "cell_type": "markdown",
   "metadata": {
    "ExecuteTime": {
     "end_time": "2021-03-08T21:25:03.267880Z",
     "start_time": "2021-03-08T21:25:03.264770Z"
    }
   },
   "source": [
    "## 2.2 Criação de Hípoteses"
   ]
  },
  {
   "cell_type": "markdown",
   "metadata": {
    "ExecuteTime": {
     "end_time": "2021-03-08T21:25:03.267880Z",
     "start_time": "2021-03-08T21:25:03.264770Z"
    }
   },
   "source": [
    "## 2.1 Mapa de Hípoteses"
   ]
  },
  {
   "cell_type": "markdown",
   "metadata": {
    "ExecuteTime": {
     "end_time": "2021-03-08T21:25:03.267880Z",
     "start_time": "2021-03-08T21:25:03.264770Z"
    }
   },
   "source": [
    "## 2.3 Feature Engineering"
   ]
  },
  {
   "cell_type": "markdown",
   "metadata": {
    "ExecuteTime": {
     "end_time": "2021-03-08T21:25:03.267880Z",
     "start_time": "2021-03-08T21:25:03.264770Z"
    },
    "heading_collapsed": true
   },
   "source": [
    "### 2.3.1 Condition house"
   ]
  },
  {
   "cell_type": "code",
   "execution_count": 13,
   "metadata": {
    "ExecuteTime": {
     "end_time": "2021-03-09T15:39:24.347326Z",
     "start_time": "2021-03-09T15:39:24.328304Z"
    },
    "hidden": true
   },
   "outputs": [],
   "source": [
    "#Condition house\n",
    "df2['condition_type']= 'NA'\n",
    "df2['condition_type']= df2['condition'].apply(lambda x: 'bad'  if x <= 2 else \n",
    "                                            'regular' if (x >= 3) & (x <= 4) \n",
    "                                            else 'good')"
   ]
  },
  {
   "cell_type": "markdown",
   "metadata": {
    "ExecuteTime": {
     "end_time": "2021-03-08T21:25:03.267880Z",
     "start_time": "2021-03-08T21:25:03.264770Z"
    },
    "heading_collapsed": true
   },
   "source": [
    "### 2.3.2 Level"
   ]
  },
  {
   "cell_type": "code",
   "execution_count": 14,
   "metadata": {
    "ExecuteTime": {
     "end_time": "2021-03-09T15:39:24.389253Z",
     "start_time": "2021-03-09T15:39:24.350193Z"
    },
    "hidden": true
   },
   "outputs": [],
   "source": [
    "#Level\n",
    "df2['level']= 'NA'\n",
    "df2['level']= df2['price'].apply(lambda x: 0  if x < 321950 else \n",
    "                                              1  if (x >= 321950) & (x < 450000) else \n",
    "                                              2  if (x >= 450000) & (x < 645000) else 3)  \n",
    "df2['level'] = df2['level'].astype(int)"
   ]
  },
  {
   "cell_type": "markdown",
   "metadata": {
    "ExecuteTime": {
     "end_time": "2021-03-08T21:25:03.267880Z",
     "start_time": "2021-03-08T21:25:03.264770Z"
    },
    "heading_collapsed": true
   },
   "source": [
    "### 2.3.3 Size"
   ]
  },
  {
   "cell_type": "code",
   "execution_count": 15,
   "metadata": {
    "ExecuteTime": {
     "end_time": "2021-03-09T15:39:24.438117Z",
     "start_time": "2021-03-09T15:39:24.393444Z"
    },
    "hidden": true
   },
   "outputs": [],
   "source": [
    "#Size\n",
    "df2['size']= 'NA'\n",
    "df2['size']= df2['sqft_living'].apply(lambda x: 0  if x < 1427 else \n",
    "                                              1  if (x >= 1427) & (x < 1910) else \n",
    "                                              2  if (x >= 1910) & (x < 2550) else 3)  \n",
    "df2['size'] = df2['size'].astype(int)"
   ]
  },
  {
   "cell_type": "markdown",
   "metadata": {
    "ExecuteTime": {
     "end_time": "2021-03-08T21:25:03.267880Z",
     "start_time": "2021-03-08T21:25:03.264770Z"
    },
    "heading_collapsed": true
   },
   "source": [
    "### 2.3.4 Waterfront"
   ]
  },
  {
   "cell_type": "code",
   "execution_count": 16,
   "metadata": {
    "ExecuteTime": {
     "end_time": "2021-03-09T15:39:24.461678Z",
     "start_time": "2021-03-09T15:39:24.442511Z"
    },
    "hidden": true
   },
   "outputs": [],
   "source": [
    "#Waterfront\n",
    "df2['is_waterfront'] = df2['waterfront'].apply( lambda x: 'yes' if x == 1 else 'no' )"
   ]
  },
  {
   "cell_type": "markdown",
   "metadata": {
    "ExecuteTime": {
     "end_time": "2021-03-08T21:25:03.267880Z",
     "start_time": "2021-03-08T21:25:03.264770Z"
    }
   },
   "source": [
    "### 2.3.5 Inserir localização no Dataset"
   ]
  },
  {
   "cell_type": "code",
   "execution_count": 17,
   "metadata": {
    "ExecuteTime": {
     "end_time": "2021-03-09T15:39:24.480666Z",
     "start_time": "2021-03-09T15:39:24.471514Z"
    }
   },
   "outputs": [],
   "source": [
    "import time\n",
    "from multiprocessing import Pool "
   ]
  },
  {
   "cell_type": "code",
   "execution_count": 22,
   "metadata": {
    "ExecuteTime": {
     "end_time": "2021-03-09T15:40:16.008283Z",
     "start_time": "2021-03-09T15:40:15.176789Z"
    }
   },
   "outputs": [],
   "source": [
    "df2['query']= df2[['lat','long']].apply(lambda x: str(x['lat']) + ',' + str(x['long']),axis=1)\n",
    "df3 = df2[['id', 'query']]"
   ]
  },
  {
   "cell_type": "code",
   "execution_count": null,
   "metadata": {
    "ExecuteTime": {
     "start_time": "2021-03-09T15:40:18.877Z"
    }
   },
   "outputs": [
    {
     "name": "stdout",
     "output_type": "stream",
     "text": [
      "Loop: 0/21613\n"
     ]
    }
   ],
   "source": [
    "import defs\n",
    "\n",
    "p = Pool(2)\n",
    "\n",
    "for i in range( len( df3 ) ):\n",
    "    print( 'Loop: {}/{}'.format( i, len( df3 ) ) )\n",
    "    start = time.process_time()\n",
    "    df3[['place_id','osm_type','country','country_code']] = p.map(defs.get_latlong,df3.iterrows())\n",
    "\n",
    "end = time.process_time()\n",
    "print('Time Elapsed: {}',end - start)"
   ]
  },
  {
   "cell_type": "code",
   "execution_count": 21,
   "metadata": {
    "ExecuteTime": {
     "end_time": "2021-03-09T15:40:04.136160Z",
     "start_time": "2021-03-09T15:40:04.105392Z"
    }
   },
   "outputs": [
    {
     "data": {
      "text/html": [
       "<div>\n",
       "<style scoped>\n",
       "    .dataframe tbody tr th:only-of-type {\n",
       "        vertical-align: middle;\n",
       "    }\n",
       "\n",
       "    .dataframe tbody tr th {\n",
       "        vertical-align: top;\n",
       "    }\n",
       "\n",
       "    .dataframe thead th {\n",
       "        text-align: right;\n",
       "    }\n",
       "</style>\n",
       "<table border=\"1\" class=\"dataframe\">\n",
       "  <thead>\n",
       "    <tr style=\"text-align: right;\">\n",
       "      <th></th>\n",
       "      <th>id</th>\n",
       "      <th>query</th>\n",
       "      <th>place_id</th>\n",
       "      <th>osm_type</th>\n",
       "      <th>country</th>\n",
       "      <th>country_code</th>\n",
       "    </tr>\n",
       "  </thead>\n",
       "  <tbody>\n",
       "    <tr>\n",
       "      <th>0</th>\n",
       "      <td>7129300520</td>\n",
       "      <td>47.5112,-122.257</td>\n",
       "      <td>148421265</td>\n",
       "      <td>way</td>\n",
       "      <td>United States</td>\n",
       "      <td>us</td>\n",
       "    </tr>\n",
       "    <tr>\n",
       "      <th>1</th>\n",
       "      <td>6414100192</td>\n",
       "      <td>47.721,-122.319</td>\n",
       "      <td>148033904</td>\n",
       "      <td>way</td>\n",
       "      <td>United States</td>\n",
       "      <td>us</td>\n",
       "    </tr>\n",
       "    <tr>\n",
       "      <th>2</th>\n",
       "      <td>5631500400</td>\n",
       "      <td>47.7379,-122.233</td>\n",
       "      <td>76736995</td>\n",
       "      <td>node</td>\n",
       "      <td>United States</td>\n",
       "      <td>us</td>\n",
       "    </tr>\n",
       "    <tr>\n",
       "      <th>3</th>\n",
       "      <td>2487200875</td>\n",
       "      <td>47.5208,-122.393</td>\n",
       "      <td>145042219</td>\n",
       "      <td>way</td>\n",
       "      <td>United States</td>\n",
       "      <td>us</td>\n",
       "    </tr>\n",
       "    <tr>\n",
       "      <th>4</th>\n",
       "      <td>1954400510</td>\n",
       "      <td>47.6168,-122.045</td>\n",
       "      <td>292831047</td>\n",
       "      <td>way</td>\n",
       "      <td>United States</td>\n",
       "      <td>us</td>\n",
       "    </tr>\n",
       "  </tbody>\n",
       "</table>\n",
       "</div>"
      ],
      "text/plain": [
       "           id             query   place_id osm_type        country country_code\n",
       "0  7129300520  47.5112,-122.257  148421265      way  United States           us\n",
       "1  6414100192   47.721,-122.319  148033904      way  United States           us\n",
       "2  5631500400  47.7379,-122.233   76736995     node  United States           us\n",
       "3  2487200875  47.5208,-122.393  145042219      way  United States           us\n",
       "4  1954400510  47.6168,-122.045  292831047      way  United States           us"
      ]
     },
     "execution_count": 21,
     "metadata": {},
     "output_type": "execute_result"
    }
   ],
   "source": [
    "df3.head()"
   ]
  },
  {
   "cell_type": "markdown",
   "metadata": {},
   "source": [
    "# 3.0 Analise Expliratória"
   ]
  },
  {
   "cell_type": "code",
   "execution_count": null,
   "metadata": {},
   "outputs": [],
   "source": []
  }
 ],
 "metadata": {
  "kernelspec": {
   "display_name": "Python 3",
   "language": "python",
   "name": "python3"
  },
  "language_info": {
   "codemirror_mode": {
    "name": "ipython",
    "version": 3
   },
   "file_extension": ".py",
   "mimetype": "text/x-python",
   "name": "python",
   "nbconvert_exporter": "python",
   "pygments_lexer": "ipython3",
   "version": "3.8.0"
  }
 },
 "nbformat": 4,
 "nbformat_minor": 4
}
